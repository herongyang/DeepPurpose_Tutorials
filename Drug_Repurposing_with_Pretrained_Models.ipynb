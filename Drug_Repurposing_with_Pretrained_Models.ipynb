{
 "cells": [
  {
   "cell_type": "code",
   "execution_count": null,
   "id": "f6320716",
   "metadata": {},
   "outputs": [],
   "source": [
    "# Drug_Repurposing_with_Pretrained_Models.ipynb\n",
    "# Required packages: DeepPurpose"
   ]
  },
  {
   "cell_type": "code",
   "execution_count": 1,
   "id": "9ee6a71d",
   "metadata": {},
   "outputs": [
    {
     "name": "stderr",
     "output_type": "stream",
     "text": [
      "WARNING:root:No normalization for BCUT2D_MWHI\n",
      "WARNING:root:No normalization for BCUT2D_MWLOW\n",
      "WARNING:root:No normalization for BCUT2D_CHGHI\n",
      "WARNING:root:No normalization for BCUT2D_CHGLO\n",
      "WARNING:root:No normalization for BCUT2D_LOGPHI\n",
      "WARNING:root:No normalization for BCUT2D_LOGPLOW\n",
      "WARNING:root:No normalization for BCUT2D_MRHI\n",
      "WARNING:root:No normalization for BCUT2D_MRLOW\n"
     ]
    }
   ],
   "source": [
    "# Load \"oneliner\" module and dataset functions\n",
    "\n",
    "from DeepPurpose import oneliner\n",
    "from DeepPurpose.dataset import *"
   ]
  },
  {
   "cell_type": "code",
   "execution_count": 2,
   "id": "454d27a2",
   "metadata": {},
   "outputs": [
    {
     "name": "stdout",
     "output_type": "stream",
     "text": [
      "Beginning Downloading Pretrained Model...\n",
      "Note: if you have already download the pretrained model before, please stop the program and set the input parameter 'pretrained_dir' to the path\n",
      "Dataset already downloaded in the local system...\n",
      "Using pretrained model and making predictions...\n",
      "repurposing...\n",
      "Drug Target Interaction Prediction Mode...\n",
      "in total: 6111 drug-target pairs\n",
      "encoding drug...\n",
      "unique drugs: 6111\n",
      "encoding protein...\n",
      "unique target sequence: 1\n",
      "Done.\n",
      "predicting...\n",
      "---------------\n",
      "Predictions from model 1 with drug encoding MPNN and target encoding CNN are done...\n",
      "-------------\n",
      "repurposing...\n",
      "Drug Target Interaction Prediction Mode...\n",
      "in total: 6111 drug-target pairs\n",
      "encoding drug...\n",
      "unique drugs: 6111\n",
      "encoding protein...\n",
      "unique target sequence: 1\n",
      "Done.\n",
      "predicting...\n",
      "---------------\n",
      "Predictions from model 2 with drug encoding CNN and target encoding CNN are done...\n",
      "-------------\n",
      "repurposing...\n",
      "Drug Target Interaction Prediction Mode...\n",
      "in total: 6111 drug-target pairs\n",
      "encoding drug...\n",
      "unique drugs: 6111\n",
      "encoding protein...\n",
      "unique target sequence: 1\n",
      "Done.\n",
      "predicting...\n",
      "---------------\n",
      "Predictions from model 3 with drug encoding Morgan and target encoding CNN are done...\n",
      "-------------\n",
      "repurposing...\n",
      "Drug Target Interaction Prediction Mode...\n",
      "in total: 6111 drug-target pairs\n",
      "encoding drug...\n",
      "unique drugs: 6111\n",
      "encoding protein...\n",
      "unique target sequence: 1\n",
      "-- Encoding AAC takes time. Time Reference: 24s for ~100 sequences in a CPU.\t\t\t\t Calculate your time by the unique target sequence #, instead of the entire dataset.\n",
      "Done.\n",
      "predicting...\n",
      "---------------\n",
      "Predictions from model 4 with drug encoding Morgan and target encoding AAC are done...\n",
      "-------------\n",
      "repurposing...\n",
      "Drug Target Interaction Prediction Mode...\n",
      "in total: 6111 drug-target pairs\n",
      "encoding drug...\n",
      "unique drugs: 6111\n",
      "rdkit not found this smiles: [Y+3] convert to all 0 features\n",
      "rdkit not found this smiles: [K].I convert to all 0 features\n",
      "encoding protein...\n",
      "unique target sequence: 1\n",
      "-- Encoding AAC takes time. Time Reference: 24s for ~100 sequences in a CPU.\t\t\t\t Calculate your time by the unique target sequence #, instead of the entire dataset.\n",
      "Done.\n",
      "predicting...\n",
      "---------------\n",
      "Predictions from model 5 with drug encoding Daylight and target encoding AAC are done...\n",
      "-------------\n",
      "models prediction finished...\n",
      "aggregating results...\n",
      "---------------\n",
      "Drug Repurposing Result for SARS-CoV2 3CL Protease\n",
      "+------+-------------+------------------------+---------------+\n",
      "| Rank |  Drug Name  |      Target Name       | Binding Score |\n",
      "+------+-------------+------------------------+---------------+\n",
      "|  1   |  9934458.0  | SARS-CoV2 3CL Protease |      1.37     |\n",
      "|  2   |   104741.0  | SARS-CoV2 3CL Protease |      4.46     |\n",
      "|  3   |    5743.0   | SARS-CoV2 3CL Protease |      6.48     |\n",
      "|  4   |  5288149.0  | SARS-CoV2 3CL Protease |      7.45     |\n",
      "|  5   |  5311018.0  | SARS-CoV2 3CL Protease |      8.54     |\n",
      "|  6   |    6230.0   | SARS-CoV2 3CL Protease |      8.57     |\n",
      "|  7   |   441130.0  | SARS-CoV2 3CL Protease |      9.34     |\n",
      "|  8   | 129009989.0 | SARS-CoV2 3CL Protease |      9.61     |\n",
      "|  9   |  5360515.0  | SARS-CoV2 3CL Protease |     11.78     |\n",
      "|  10  |     UNK     | SARS-CoV2 3CL Protease |     11.92     |\n",
      "|  11  |  16758824.0 | SARS-CoV2 3CL Protease |     12.30     |\n",
      "|  12  |    5803.0   | SARS-CoV2 3CL Protease |     12.52     |\n",
      "|  13  |   71386.0   | SARS-CoV2 3CL Protease |     12.87     |\n",
      "|  14  |    5861.0   | SARS-CoV2 3CL Protease |     12.90     |\n",
      "|  15  |  9976842.0  | SARS-CoV2 3CL Protease |     13.51     |\n",
      "|  16  |  5311304.0  | SARS-CoV2 3CL Protease |     13.67     |\n",
      "|  17  |  5312125.0  | SARS-CoV2 3CL Protease |     14.02     |\n",
      "|  18  |  2799722.0  | SARS-CoV2 3CL Protease |     14.68     |\n",
      "|  19  |   688095.0  | SARS-CoV2 3CL Protease |     15.95     |\n",
      "|  20  |    5684.0   | SARS-CoV2 3CL Protease |     16.23     |\n",
      "|  21  |  5283734.0  | SARS-CoV2 3CL Protease |     16.52     |\n",
      "|  22  |    4893.0   | SARS-CoV2 3CL Protease |     16.61     |\n",
      "|  23  |   68838.0   | SARS-CoV2 3CL Protease |     16.61     |\n",
      "|  24  |  9893887.0  | SARS-CoV2 3CL Protease |     17.15     |\n",
      "|  25  |    3341.0   | SARS-CoV2 3CL Protease |     19.24     |\n",
      "|  26  |   72402.0   | SARS-CoV2 3CL Protease |     20.06     |\n",
      "|  27  |  6321424.0  | SARS-CoV2 3CL Protease |     20.09     |\n",
      "|  28  |  4331799.0  | SARS-CoV2 3CL Protease |     23.00     |\n",
      "|  29  |   68617.0   | SARS-CoV2 3CL Protease |     23.30     |\n",
      "|  30  |  9867758.0  | SARS-CoV2 3CL Protease |     23.37     |\n",
      "checkout ./save_folder/results_aggregation/repurposing.txt for the whole list\n",
      "\n"
     ]
    }
   ],
   "source": [
    "# Run drug repurposing for the SARS_CoV2 3CL Proteas target\n",
    "\n",
    "oneliner.repurpose(*load_SARS_CoV2_Protease_3CL())"
   ]
  },
  {
   "cell_type": "code",
   "execution_count": 3,
   "id": "9f5b1848",
   "metadata": {},
   "outputs": [
    {
     "data": {
      "text/plain": [
       "('SGFRKMAFPSGKVEGCMVQVTCGTTTLNGLWLDDVVYCPRHVICTSEDMLNPNYEDLLIRKSNHNFLVQAGNVQLRVIGHSMQNCVLKLKVDTANPKTPKYKFVRIQPGQTFSVLACYNGSPSGVYQCAMRPNFTIKGSFLNGSCGSVGFNIDYDCVSFCYMHHMELPTGVHAGTDLEGNFYGPFVDRQTAQAAGTDTTITVNVLAWLYAAVINGDRWFLNRFTTTLNDFNLVAMKYNYEPLTQDHVDILGPLSAQTGIAVLDMCASLKELLQNGMNGRTILGSALLEDEFTPFDVVRQCSGVTFQ',\n",
       " 'SARS-CoV2 3CL Protease')"
      ]
     },
     "execution_count": 3,
     "metadata": {},
     "output_type": "execute_result"
    }
   ],
   "source": [
    "# Show the target protein sequence\n",
    "\n",
    "load_SARS_CoV2_Protease_3CL()"
   ]
  },
  {
   "cell_type": "code",
   "execution_count": null,
   "id": "53e8fbf8",
   "metadata": {},
   "outputs": [],
   "source": []
  }
 ],
 "metadata": {
  "kernelspec": {
   "display_name": "DeepPurpose",
   "language": "python",
   "name": "deeppurpose"
  },
  "language_info": {
   "codemirror_mode": {
    "name": "ipython",
    "version": 3
   },
   "file_extension": ".py",
   "mimetype": "text/x-python",
   "name": "python",
   "nbconvert_exporter": "python",
   "pygments_lexer": "ipython3",
   "version": "3.6.13"
  }
 },
 "nbformat": 4,
 "nbformat_minor": 5
}
