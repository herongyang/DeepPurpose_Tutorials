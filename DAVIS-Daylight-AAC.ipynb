{
 "cells": [
  {
   "cell_type": "code",
   "execution_count": 1,
   "id": "f6320716",
   "metadata": {},
   "outputs": [],
   "source": [
    "# Required packages: PyTDC, DeepPurpose"
   ]
  },
  {
   "cell_type": "code",
   "execution_count": 2,
   "id": "9ee6a71d",
   "metadata": {},
   "outputs": [
    {
     "name": "stderr",
     "output_type": "stream",
     "text": [
      "Found local copy...\n",
      "Loading...\n",
      "Done!\n"
     ]
    }
   ],
   "source": [
    "# Load the DAVIS dataset from TDC project\n",
    "\n",
    "from tdc.multi_pred import DTI as datasets\n",
    "data = datasets(name = 'DAVIS').get_data()\n",
    "X_drug, X_target, y = data['Drug'], data['Target'], data['Y']"
   ]
  },
  {
   "cell_type": "code",
   "execution_count": 3,
   "id": "454d27a2",
   "metadata": {},
   "outputs": [
    {
     "name": "stderr",
     "output_type": "stream",
     "text": [
      "WARNING:root:No normalization for BCUT2D_MWHI\n",
      "WARNING:root:No normalization for BCUT2D_MWLOW\n",
      "WARNING:root:No normalization for BCUT2D_CHGHI\n",
      "WARNING:root:No normalization for BCUT2D_CHGLO\n",
      "WARNING:root:No normalization for BCUT2D_LOGPHI\n",
      "WARNING:root:No normalization for BCUT2D_LOGPLOW\n",
      "WARNING:root:No normalization for BCUT2D_MRHI\n",
      "WARNING:root:No normalization for BCUT2D_MRLOW\n"
     ]
    },
    {
     "name": "stdout",
     "output_type": "stream",
     "text": [
      "Drug Target Interaction Prediction Mode...\n",
      "in total: 25772 drug-target pairs\n",
      "encoding drug...\n",
      "unique drugs: 68\n",
      "encoding protein...\n",
      "unique target sequence: 379\n",
      "-- Encoding AAC takes time. Time Reference: 24s for ~100 sequences in a CPU.\t\t\t\t Calculate your time by the unique target sequence #, instead of the entire dataset.\n",
      "splitting dataset...\n",
      "Done.\n"
     ]
    }
   ],
   "source": [
    "# Prepare train, val, and test sub-sets \n",
    "# with Daylight encoding on molecule's SMILES string\n",
    "# and AAC encoding on protein's sequence string\n",
    "\n",
    "from DeepPurpose import utils, DTI\n",
    "drug_encoding, target_encoding = 'Daylight', 'AAC'\n",
    "train, val, test = utils.data_process(X_drug, X_target, y, \n",
    "    drug_encoding, target_encoding) "
   ]
  },
  {
   "cell_type": "code",
   "execution_count": 4,
   "id": "28cccef7",
   "metadata": {},
   "outputs": [
    {
     "name": "stdout",
     "output_type": "stream",
     "text": [
      "Let's use CPU/s!\n",
      "--- Data Preparation ---\n",
      "--- Go for Training ---\n",
      "Training at Epoch 1 iteration 0 with loss 7120397. Total time 0.0 hours\n",
      "Validation at Epoch 1 with loss:2361868, MSE: 2022795 , Pearson Correlation: -0.1162 with p-value: 3.27E-09 , Concordance Index: 0.42060\n",
      "Training at Epoch 2 iteration 0 with loss 1829127. Total time 0.00388 hours\n",
      "Validation at Epoch 2 with loss:1265792, MSE: 1717937 , Pearson Correlation: -0.0076 with p-value: 6.98E-01 , Concordance Index: 0.48901\n",
      "Training at Epoch 3 iteration 0 with loss 1940287. Total time 0.0075 hours\n",
      "Validation at Epoch 3 with loss:1076095, MSE: 1437778 , Pearson Correlation: 0.31780 with p-value: 1.44E-61 , Concordance Index: 0.67725\n",
      "Training at Epoch 4 iteration 0 with loss 1471546. Total time 0.01138 hours\n",
      "Validation at Epoch 4 with loss:1348573, MSE: 1158288 , Pearson Correlation: 0.52609 with p-value: 1.95E-183 , Concordance Index: 0.77860\n",
      "Training at Epoch 5 iteration 0 with loss 1403538. Total time 0.01527 hours\n",
      "Validation at Epoch 5 with loss:5086276, MSE: 1081141 , Pearson Correlation: 0.57087 with p-value: 8.45E-223 , Concordance Index: 0.80166\n",
      "Training at Epoch 6 iteration 0 with loss 1186216. Total time 0.01916 hours\n",
      "Validation at Epoch 6 with loss:6900060, MSE: 1060277 , Pearson Correlation: 0.58124 with p-value: 8.26E-233 , Concordance Index: 0.80784\n",
      "Training at Epoch 7 iteration 0 with loss 1112135. Total time 0.02305 hours\n",
      "Validation at Epoch 7 with loss:1919589, MSE: 1043217 , Pearson Correlation: 0.58684 with p-value: 2.31E-238 , Concordance Index: 0.80967\n",
      "Training at Epoch 8 iteration 0 with loss 1046909. Total time 0.02694 hours\n",
      "Validation at Epoch 8 with loss:1747001, MSE: 1038114 , Pearson Correlation: 0.58952 with p-value: 4.61E-241 , Concordance Index: 0.81033\n",
      "Training at Epoch 9 iteration 0 with loss 9955370. Total time 0.03055 hours\n",
      "Validation at Epoch 9 with loss:1159702, MSE: 1044360 , Pearson Correlation: 0.58988 with p-value: 1.99E-241 , Concordance Index: 0.81162\n",
      "Training at Epoch 10 iteration 0 with loss 9507389. Total time 0.03444 hours\n",
      "Validation at Epoch 10 with loss:9945042, MSE: 1034425 , Pearson Correlation: 0.59152 with p-value: 4.30E-243 , Concordance Index: 0.81169\n",
      "--- Go for Testing ---\n",
      "Testing MSE: 73171596.2149366 , Pearson Correlation: -0.003704135136441985 with p-value: 7.90E-01 , Concordance Index: 0.49823936280104075\n",
      "--- Training Finished ---\n"
     ]
    },
    {
     "data": {
      "image/png": "[encoded data removed]",
      "text/plain": [
       "<Figure size 432x288 with 1 Axes>"
      ]
     },
     "metadata": {
      "needs_background": "light"
     },
     "output_type": "display_data"
    }
   ],
   "source": [
    "# Create a new model with default configuration options\n",
    "# And train the model\n",
    "\n",
    "config = utils.generate_config(drug_encoding, target_encoding)\n",
    "model = DTI.model_initialize(**config)\n",
    "model.train(train, val, test)"
   ]
  },
  {
   "cell_type": "code",
   "execution_count": 5,
   "id": "3bc1db0e",
   "metadata": {},
   "outputs": [],
   "source": [
    "# Save the model\n",
    "\n",
    "model.save_model('DAVIS-Daylight-AAC')"
   ]
  },
  {
   "cell_type": "code",
   "execution_count": null,
   "id": "9f5b1848",
   "metadata": {},
   "outputs": [],
   "source": []
  }
 ],
 "metadata": {
  "kernelspec": {
   "display_name": "DeepPurpose",
   "language": "python",
   "name": "deeppurpose"
  },
  "language_info": {
   "codemirror_mode": {
    "name": "ipython",
    "version": 3
   },
   "file_extension": ".py",
   "mimetype": "text/x-python",
   "name": "python",
   "nbconvert_exporter": "python",
   "pygments_lexer": "ipython3",
   "version": "3.6.13"
  }
 },
 "nbformat": 4,
 "nbformat_minor": 5
}
