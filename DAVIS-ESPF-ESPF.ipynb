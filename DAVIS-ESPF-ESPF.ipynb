{
 "cells": [
  {
   "cell_type": "code",
   "execution_count": 1,
   "id": "da44a3f7",
   "metadata": {},
   "outputs": [],
   "source": [
    "# DAVIS-ESPF-ESPF.ipynb\n",
    "# Required packages: PyTDC, DeepPurpose"
   ]
  },
  {
   "cell_type": "code",
   "execution_count": 2,
   "id": "9ee6a71d",
   "metadata": {},
   "outputs": [
    {
     "name": "stderr",
     "output_type": "stream",
     "text": [
      "Found local copy...\n",
      "Loading...\n",
      "Done!\n"
     ]
    }
   ],
   "source": [
    "# Load the DAVIS dataset from TDC project\n",
    "\n",
    "from tdc.multi_pred import DTI as datasets\n",
    "data = datasets(name = 'DAVIS').get_data()\n",
    "X_drug, X_target, y = data['Drug'], data['Target'], data['Y']"
   ]
  },
  {
   "cell_type": "code",
   "execution_count": 3,
   "id": "3abf3ed3",
   "metadata": {},
   "outputs": [
    {
     "name": "stderr",
     "output_type": "stream",
     "text": [
      "WARNING:root:No normalization for BCUT2D_MWHI\n",
      "WARNING:root:No normalization for BCUT2D_MWLOW\n",
      "WARNING:root:No normalization for BCUT2D_CHGHI\n",
      "WARNING:root:No normalization for BCUT2D_CHGLO\n",
      "WARNING:root:No normalization for BCUT2D_LOGPHI\n",
      "WARNING:root:No normalization for BCUT2D_LOGPLOW\n",
      "WARNING:root:No normalization for BCUT2D_MRHI\n",
      "WARNING:root:No normalization for BCUT2D_MRLOW\n"
     ]
    },
    {
     "name": "stdout",
     "output_type": "stream",
     "text": [
      "Drug Target Interaction Prediction Mode...\n",
      "in total: 25772 drug-target pairs\n",
      "encoding drug...\n",
      "unique drugs: 68\n",
      "encoding protein...\n",
      "unique target sequence: 379\n",
      "splitting dataset...\n",
      "Done.\n"
     ]
    }
   ],
   "source": [
    "# Prepare train, val, and test sub-sets\n",
    "# with Daylight encoding on molecule's SMILES strings\n",
    "# and AAC encoding on protein's sequence strings\n",
    "\n",
    "from DeepPurpose import utils, DTI\n",
    "drug_encoding, target_encoding = 'ESPF', 'ESPF'\n",
    "train, val, test = utils.data_process(X_drug, X_target, y, \n",
    "    drug_encoding, target_encoding) "
   ]
  },
  {
   "cell_type": "code",
   "execution_count": 4,
   "id": "a2053659",
   "metadata": {},
   "outputs": [
    {
     "name": "stdout",
     "output_type": "stream",
     "text": [
      "Let's use CPU/s!\n",
      "--- Data Preparation ---\n",
      "--- Go for Training ---\n",
      "Training at Epoch 1 iteration 0 with loss 7329578. Total time 0.0 hours\n",
      "Validation at Epoch 1 with loss:1984833, MSE: 2342597 , Pearson Correlation: -0.0717 with p-value: 2.69E-04 , Concordance Index: 0.44852\n",
      "Training at Epoch 2 iteration 0 with loss 2530405. Total time 0.00277 hours\n",
      "Validation at Epoch 2 with loss:1396467, MSE: 1405138 , Pearson Correlation: 0.35743 with p-value: 1.62E-78 , Concordance Index: 0.69228\n",
      "Training at Epoch 3 iteration 0 with loss 1389993. Total time 0.00583 hours\n",
      "Validation at Epoch 3 with loss:1643028, MSE: 1201932 , Pearson Correlation: 0.49909 with p-value: 2.05E-162 , Concordance Index: 0.75595\n",
      "Training at Epoch 4 iteration 0 with loss 1132798. Total time 0.00861 hours\n",
      "Validation at Epoch 4 with loss:1894139, MSE: 1167423 , Pearson Correlation: 0.51897 with p-value: 1.04E-177 , Concordance Index: 0.76713\n",
      "Training at Epoch 5 iteration 0 with loss 1124288. Total time 0.01166 hours\n",
      "Validation at Epoch 5 with loss:8255473, MSE: 1137967 , Pearson Correlation: 0.53337 with p-value: 1.93E-189 , Concordance Index: 0.77695\n",
      "Training at Epoch 6 iteration 0 with loss 1071316. Total time 0.01472 hours\n",
      "Validation at Epoch 6 with loss:1132672, MSE: 1116036 , Pearson Correlation: 0.55085 with p-value: 1.84E-204 , Concordance Index: 0.78865\n",
      "Training at Epoch 7 iteration 0 with loss 1086027. Total time 0.0175 hours\n",
      "Validation at Epoch 7 with loss:1048718, MSE: 1081554 , Pearson Correlation: 0.57063 with p-value: 1.41E-222 , Concordance Index: 0.79989\n",
      "Training at Epoch 8 iteration 0 with loss 1166421. Total time 0.02055 hours\n",
      "Validation at Epoch 8 with loss:7338500, MSE: 1050574 , Pearson Correlation: 0.58349 with p-value: 5.02E-235 , Concordance Index: 0.80707\n",
      "Training at Epoch 9 iteration 0 with loss 1067702. Total time 0.02333 hours\n",
      "Validation at Epoch 9 with loss:9740896, MSE: 1043115 , Pearson Correlation: 0.58819 with p-value: 1.02E-239 , Concordance Index: 0.81015\n",
      "Training at Epoch 10 iteration 0 with loss 9401278. Total time 0.02638 hours\n",
      "Validation at Epoch 10 with loss:1276462, MSE: 1038849 , Pearson Correlation: 0.58920 with p-value: 9.67E-241 , Concordance Index: 0.81075\n",
      "--- Go for Testing ---\n",
      "Testing MSE: 73171018.03720216 , Pearson Correlation: 0.025556244416406963 with p-value: 6.66E-02 , Concordance Index: 0.511978889125216\n",
      "--- Training Finished ---\n"
     ]
    },
    {
     "data": {
      "image/png": "[encoded data removed]",
      "text/plain": [
       "<Figure size 432x288 with 1 Axes>"
      ]
     },
     "metadata": {
      "needs_background": "light"
     },
     "output_type": "display_data"
    }
   ],
   "source": [
    "# Create a new model with default configuration options\n",
    "# And train the model\n",
    "\n",
    "config = utils.generate_config(drug_encoding, target_encoding)\n",
    "model = DTI.model_initialize(**config)\n",
    "model.train(train, val, test)"
   ]
  },
  {
   "cell_type": "code",
   "execution_count": 5,
   "id": "fb233e3c",
   "metadata": {},
   "outputs": [],
   "source": [
    "# Save the model\n",
    "\n",
    "model.save_model('DAVIS-ESPF-ESPF')"
   ]
  },
  {
   "cell_type": "code",
   "execution_count": null,
   "id": "17a1451c",
   "metadata": {},
   "outputs": [],
   "source": []
  }
 ],
 "metadata": {
  "kernelspec": {
   "display_name": "DeepPurpose",
   "language": "python",
   "name": "deeppurpose"
  },
  "language_info": {
   "codemirror_mode": {
    "name": "ipython",
    "version": 3
   },
   "file_extension": ".py",
   "mimetype": "text/x-python",
   "name": "python",
   "nbconvert_exporter": "python",
   "pygments_lexer": "ipython3",
   "version": "3.6.13"
  }
 },
 "nbformat": 4,
 "nbformat_minor": 5
}
